{
 "cells": [
  {
   "cell_type": "markdown",
   "metadata": {},
   "source": [
    "# Project 3: Medical Requests Classification: Diabetes Vs. Asthma"
   ]
  },
  {
   "cell_type": "markdown",
   "metadata": {},
   "source": [
    "## Problem Statement: \n",
    "\n",
    "A research institute has plans to conduct a research on medical apps for self-diagnosis of diabetes. \n",
    "They have collected requests made by patients with a description of basic information on their conditions. The data they are working with contains patient requests that were diagnosed as asthma and diabetes. \n",
    "Before the begin their work, they requested the technology department to come up with a solution for sorting patient requests based on their diagnosis. \n",
    "\n"
   ]
  },
  {
   "cell_type": "markdown",
   "metadata": {},
   "source": [
    "## Background:\n",
    "\n",
    "Using Pushshift's API, we have collected data from two subreddit posts: Diabetes and Asthma. We used 5,000 posts from each subreddit, a total of 10,000 posts. We assumed the posts can be a representation of the patient requests in medical apps. \n",
    "\n",
    "This is a binary classification problem where we used NLP to train a classifier on which subreddit a given post came from. "
   ]
  },
  {
   "cell_type": "markdown",
   "metadata": {},
   "source": [
    "## Import Libraries"
   ]
  },
  {
   "cell_type": "code",
   "execution_count": 43,
   "metadata": {},
   "outputs": [],
   "source": [
    "# imports\n",
    "import pandas as pd\n",
    "import matplotlib.pyplot as plt\n",
    "import seaborn as sns\n",
    "from sklearn.model_selection import train_test_split, GridSearchCV, cross_val_score\n",
    "from sklearn.pipeline import Pipeline\n",
    "from sklearn.naive_bayes import MultinomialNB\n",
    "from sklearn.metrics import confusion_matrix, plot_confusion_matrix\n",
    "from sklearn.feature_extraction.text import CountVectorizer, TfidfVectorizer\n",
    "from sklearn.ensemble import RandomForestClassifier\n",
    "from sklearn.preprocessing import StandardScaler\n",
    "from sklearn.neighbors import KNeighborsClassifier"
   ]
  },
  {
   "cell_type": "markdown",
   "metadata": {},
   "source": [
    "---\n",
    "\n",
    "## Load Data"
   ]
  },
  {
   "cell_type": "code",
   "execution_count": 44,
   "metadata": {},
   "outputs": [
    {
     "data": {
      "text/html": [
       "<div>\n",
       "<style scoped>\n",
       "    .dataframe tbody tr th:only-of-type {\n",
       "        vertical-align: middle;\n",
       "    }\n",
       "\n",
       "    .dataframe tbody tr th {\n",
       "        vertical-align: top;\n",
       "    }\n",
       "\n",
       "    .dataframe thead th {\n",
       "        text-align: right;\n",
       "    }\n",
       "</style>\n",
       "<table border=\"1\" class=\"dataframe\">\n",
       "  <thead>\n",
       "    <tr style=\"text-align: right;\">\n",
       "      <th></th>\n",
       "      <th>Unnamed: 0</th>\n",
       "      <th>selftext</th>\n",
       "      <th>subreddit</th>\n",
       "      <th>title</th>\n",
       "      <th>created_utc</th>\n",
       "    </tr>\n",
       "  </thead>\n",
       "  <tbody>\n",
       "    <tr>\n",
       "      <th>0</th>\n",
       "      <td>0</td>\n",
       "      <td>Newly diagnosed, history of insulin resistance...</td>\n",
       "      <td>diabetes</td>\n",
       "      <td>Trulicity first time</td>\n",
       "      <td>1631063744</td>\n",
       "    </tr>\n",
       "    <tr>\n",
       "      <th>1</th>\n",
       "      <td>1</td>\n",
       "      <td>Diagnosed A1c 6.9% Oct 2019\\n\\nLab A1c 5.2% Ju...</td>\n",
       "      <td>diabetes</td>\n",
       "      <td>Endo offered to cert me off as a non-diabetic,...</td>\n",
       "      <td>1631063344</td>\n",
       "    </tr>\n",
       "    <tr>\n",
       "      <th>2</th>\n",
       "      <td>2</td>\n",
       "      <td>My pump was shipped last week Thursday from a ...</td>\n",
       "      <td>diabetes</td>\n",
       "      <td>FedEx is literally the worst (my pump was supp...</td>\n",
       "      <td>1631061057</td>\n",
       "    </tr>\n",
       "    <tr>\n",
       "      <th>3</th>\n",
       "      <td>3</td>\n",
       "      <td>So recently I quit my job because it caused me...</td>\n",
       "      <td>diabetes</td>\n",
       "      <td>I hate feeling like a disappointment</td>\n",
       "      <td>1631057349</td>\n",
       "    </tr>\n",
       "    <tr>\n",
       "      <th>4</th>\n",
       "      <td>4</td>\n",
       "      <td>Hi\\n\\nI have prescription for Novolog, dosage ...</td>\n",
       "      <td>diabetes</td>\n",
       "      <td>walgreens refuses to provide me 30 supply of i...</td>\n",
       "      <td>1631055429</td>\n",
       "    </tr>\n",
       "  </tbody>\n",
       "</table>\n",
       "</div>"
      ],
      "text/plain": [
       "   Unnamed: 0                                           selftext subreddit  \\\n",
       "0           0  Newly diagnosed, history of insulin resistance...  diabetes   \n",
       "1           1  Diagnosed A1c 6.9% Oct 2019\\n\\nLab A1c 5.2% Ju...  diabetes   \n",
       "2           2  My pump was shipped last week Thursday from a ...  diabetes   \n",
       "3           3  So recently I quit my job because it caused me...  diabetes   \n",
       "4           4  Hi\\n\\nI have prescription for Novolog, dosage ...  diabetes   \n",
       "\n",
       "                                               title  created_utc  \n",
       "0                               Trulicity first time   1631063744  \n",
       "1  Endo offered to cert me off as a non-diabetic,...   1631063344  \n",
       "2  FedEx is literally the worst (my pump was supp...   1631061057  \n",
       "3               I hate feeling like a disappointment   1631057349  \n",
       "4  walgreens refuses to provide me 30 supply of i...   1631055429  "
      ]
     },
     "execution_count": 44,
     "metadata": {},
     "output_type": "execute_result"
    }
   ],
   "source": [
    "# read diabetes data\n",
    "dia = pd.read_csv('./data/diabetes1.csv')\n",
    "dia.head()"
   ]
  },
  {
   "cell_type": "code",
   "execution_count": 45,
   "metadata": {},
   "outputs": [
    {
     "data": {
      "text/html": [
       "<div>\n",
       "<style scoped>\n",
       "    .dataframe tbody tr th:only-of-type {\n",
       "        vertical-align: middle;\n",
       "    }\n",
       "\n",
       "    .dataframe tbody tr th {\n",
       "        vertical-align: top;\n",
       "    }\n",
       "\n",
       "    .dataframe thead th {\n",
       "        text-align: right;\n",
       "    }\n",
       "</style>\n",
       "<table border=\"1\" class=\"dataframe\">\n",
       "  <thead>\n",
       "    <tr style=\"text-align: right;\">\n",
       "      <th></th>\n",
       "      <th>Unnamed: 0</th>\n",
       "      <th>selftext</th>\n",
       "      <th>subreddit</th>\n",
       "      <th>title</th>\n",
       "      <th>created_utc</th>\n",
       "    </tr>\n",
       "  </thead>\n",
       "  <tbody>\n",
       "    <tr>\n",
       "      <th>0</th>\n",
       "      <td>0</td>\n",
       "      <td>Need some advice</td>\n",
       "      <td>Asthma</td>\n",
       "      <td>Need People to talk to</td>\n",
       "      <td>1631058620</td>\n",
       "    </tr>\n",
       "    <tr>\n",
       "      <th>1</th>\n",
       "      <td>1</td>\n",
       "      <td>[removed]</td>\n",
       "      <td>Asthma</td>\n",
       "      <td>Switching from Advair to AirDuo</td>\n",
       "      <td>1631055612</td>\n",
       "    </tr>\n",
       "    <tr>\n",
       "      <th>2</th>\n",
       "      <td>2</td>\n",
       "      <td>Finally getting my inhalers tomorrow! But asth...</td>\n",
       "      <td>Asthma</td>\n",
       "      <td>Can an inhaler help a swollen throat?</td>\n",
       "      <td>1631053500</td>\n",
       "    </tr>\n",
       "    <tr>\n",
       "      <th>3</th>\n",
       "      <td>3</td>\n",
       "      <td>Does anyone know where I can buy inhalers onli...</td>\n",
       "      <td>Asthma</td>\n",
       "      <td>Albuterol</td>\n",
       "      <td>1631049537</td>\n",
       "    </tr>\n",
       "    <tr>\n",
       "      <th>4</th>\n",
       "      <td>4</td>\n",
       "      <td>\\n\\nHello,\\n\\nI'm just trying to figure out i...</td>\n",
       "      <td>Asthma</td>\n",
       "      <td>Wildly Different PFT Results?</td>\n",
       "      <td>1631043480</td>\n",
       "    </tr>\n",
       "  </tbody>\n",
       "</table>\n",
       "</div>"
      ],
      "text/plain": [
       "   Unnamed: 0                                           selftext subreddit  \\\n",
       "0           0                                   Need some advice    Asthma   \n",
       "1           1                                          [removed]    Asthma   \n",
       "2           2  Finally getting my inhalers tomorrow! But asth...    Asthma   \n",
       "3           3  Does anyone know where I can buy inhalers onli...    Asthma   \n",
       "4           4   \\n\\nHello,\\n\\nI'm just trying to figure out i...    Asthma   \n",
       "\n",
       "                                   title  created_utc  \n",
       "0                 Need People to talk to   1631058620  \n",
       "1        Switching from Advair to AirDuo   1631055612  \n",
       "2  Can an inhaler help a swollen throat?   1631053500  \n",
       "3                              Albuterol   1631049537  \n",
       "4          Wildly Different PFT Results?   1631043480  "
      ]
     },
     "execution_count": 45,
     "metadata": {},
     "output_type": "execute_result"
    }
   ],
   "source": [
    "# read asthma data\n",
    "ast = pd.read_csv('./data/asthma1.csv')\n",
    "ast.head()"
   ]
  },
  {
   "cell_type": "markdown",
   "metadata": {},
   "source": [
    "### Data Cleaning"
   ]
  },
  {
   "cell_type": "code",
   "execution_count": 46,
   "metadata": {},
   "outputs": [],
   "source": [
    "# drop Unnamed: 0 column\n",
    "ast.drop(columns=['Unnamed: 0'], inplace=True)\n",
    "dia.drop(columns=['Unnamed: 0'], inplace=True)"
   ]
  },
  {
   "cell_type": "code",
   "execution_count": 47,
   "metadata": {},
   "outputs": [
    {
     "data": {
      "text/plain": [
       "selftext       1102\n",
       "subreddit         0\n",
       "title             0\n",
       "created_utc       0\n",
       "dtype: int64"
      ]
     },
     "execution_count": 47,
     "metadata": {},
     "output_type": "execute_result"
    }
   ],
   "source": [
    "# check for null values\n",
    "dia.isnull().sum()"
   ]
  },
  {
   "cell_type": "code",
   "execution_count": 48,
   "metadata": {},
   "outputs": [
    {
     "data": {
      "text/plain": [
       "selftext       586\n",
       "subreddit        0\n",
       "title            0\n",
       "created_utc      0\n",
       "dtype: int64"
      ]
     },
     "execution_count": 48,
     "metadata": {},
     "output_type": "execute_result"
    }
   ],
   "source": [
    "# check for null values\n",
    "ast.isnull().sum()"
   ]
  },
  {
   "cell_type": "code",
   "execution_count": 49,
   "metadata": {},
   "outputs": [],
   "source": [
    "# drop null values\n",
    "dia.dropna(inplace=True)\n",
    "ast.dropna(inplace=True)"
   ]
  },
  {
   "cell_type": "code",
   "execution_count": 50,
   "metadata": {},
   "outputs": [
    {
     "name": "stdout",
     "output_type": "stream",
     "text": [
      "<class 'pandas.core.frame.DataFrame'>\n",
      "Int64Index: 3898 entries, 0 to 4999\n",
      "Data columns (total 4 columns):\n",
      " #   Column       Non-Null Count  Dtype \n",
      "---  ------       --------------  ----- \n",
      " 0   selftext     3898 non-null   object\n",
      " 1   subreddit    3898 non-null   object\n",
      " 2   title        3898 non-null   object\n",
      " 3   created_utc  3898 non-null   int64 \n",
      "dtypes: int64(1), object(3)\n",
      "memory usage: 152.3+ KB\n"
     ]
    }
   ],
   "source": [
    "dia.info()"
   ]
  },
  {
   "cell_type": "code",
   "execution_count": 51,
   "metadata": {},
   "outputs": [
    {
     "name": "stdout",
     "output_type": "stream",
     "text": [
      "<class 'pandas.core.frame.DataFrame'>\n",
      "Int64Index: 4414 entries, 0 to 4999\n",
      "Data columns (total 4 columns):\n",
      " #   Column       Non-Null Count  Dtype \n",
      "---  ------       --------------  ----- \n",
      " 0   selftext     4414 non-null   object\n",
      " 1   subreddit    4414 non-null   object\n",
      " 2   title        4414 non-null   object\n",
      " 3   created_utc  4414 non-null   int64 \n",
      "dtypes: int64(1), object(3)\n",
      "memory usage: 172.4+ KB\n"
     ]
    }
   ],
   "source": [
    "ast.info()"
   ]
  },
  {
   "cell_type": "markdown",
   "metadata": {},
   "source": [
    "## EDA on posts\n",
    "\n",
    "- Word count and length of posts\n",
    "- Vectorize selftext column\n",
    "- Find out the most common words in our corpus"
   ]
  },
  {
   "cell_type": "code",
   "execution_count": 52,
   "metadata": {},
   "outputs": [
    {
     "data": {
      "text/html": [
       "<div>\n",
       "<style scoped>\n",
       "    .dataframe tbody tr th:only-of-type {\n",
       "        vertical-align: middle;\n",
       "    }\n",
       "\n",
       "    .dataframe tbody tr th {\n",
       "        vertical-align: top;\n",
       "    }\n",
       "\n",
       "    .dataframe thead th {\n",
       "        text-align: right;\n",
       "    }\n",
       "</style>\n",
       "<table border=\"1\" class=\"dataframe\">\n",
       "  <thead>\n",
       "    <tr style=\"text-align: right;\">\n",
       "      <th></th>\n",
       "      <th>selftext</th>\n",
       "      <th>subreddit</th>\n",
       "      <th>title</th>\n",
       "      <th>created_utc</th>\n",
       "      <th>post_length</th>\n",
       "    </tr>\n",
       "  </thead>\n",
       "  <tbody>\n",
       "    <tr>\n",
       "      <th>0</th>\n",
       "      <td>Newly diagnosed, history of insulin resistance...</td>\n",
       "      <td>diabetes</td>\n",
       "      <td>Trulicity first time</td>\n",
       "      <td>1631063744</td>\n",
       "      <td>501</td>\n",
       "    </tr>\n",
       "    <tr>\n",
       "      <th>1</th>\n",
       "      <td>Diagnosed A1c 6.9% Oct 2019\\n\\nLab A1c 5.2% Ju...</td>\n",
       "      <td>diabetes</td>\n",
       "      <td>Endo offered to cert me off as a non-diabetic,...</td>\n",
       "      <td>1631063344</td>\n",
       "      <td>332</td>\n",
       "    </tr>\n",
       "    <tr>\n",
       "      <th>2</th>\n",
       "      <td>My pump was shipped last week Thursday from a ...</td>\n",
       "      <td>diabetes</td>\n",
       "      <td>FedEx is literally the worst (my pump was supp...</td>\n",
       "      <td>1631061057</td>\n",
       "      <td>1070</td>\n",
       "    </tr>\n",
       "    <tr>\n",
       "      <th>3</th>\n",
       "      <td>So recently I quit my job because it caused me...</td>\n",
       "      <td>diabetes</td>\n",
       "      <td>I hate feeling like a disappointment</td>\n",
       "      <td>1631057349</td>\n",
       "      <td>1268</td>\n",
       "    </tr>\n",
       "    <tr>\n",
       "      <th>4</th>\n",
       "      <td>Hi\\n\\nI have prescription for Novolog, dosage ...</td>\n",
       "      <td>diabetes</td>\n",
       "      <td>walgreens refuses to provide me 30 supply of i...</td>\n",
       "      <td>1631055429</td>\n",
       "      <td>313</td>\n",
       "    </tr>\n",
       "  </tbody>\n",
       "</table>\n",
       "</div>"
      ],
      "text/plain": [
       "                                            selftext subreddit  \\\n",
       "0  Newly diagnosed, history of insulin resistance...  diabetes   \n",
       "1  Diagnosed A1c 6.9% Oct 2019\\n\\nLab A1c 5.2% Ju...  diabetes   \n",
       "2  My pump was shipped last week Thursday from a ...  diabetes   \n",
       "3  So recently I quit my job because it caused me...  diabetes   \n",
       "4  Hi\\n\\nI have prescription for Novolog, dosage ...  diabetes   \n",
       "\n",
       "                                               title  created_utc  post_length  \n",
       "0                               Trulicity first time   1631063744          501  \n",
       "1  Endo offered to cert me off as a non-diabetic,...   1631063344          332  \n",
       "2  FedEx is literally the worst (my pump was supp...   1631061057         1070  \n",
       "3               I hate feeling like a disappointment   1631057349         1268  \n",
       "4  walgreens refuses to provide me 30 supply of i...   1631055429          313  "
      ]
     },
     "execution_count": 52,
     "metadata": {},
     "output_type": "execute_result"
    }
   ],
   "source": [
    "# get character length of each subrredit post\n",
    "dia['post_length']= dia['selftext'].apply(len)\n",
    "dia.head()"
   ]
  },
  {
   "cell_type": "code",
   "execution_count": 53,
   "metadata": {},
   "outputs": [
    {
     "data": {
      "text/html": [
       "<div>\n",
       "<style scoped>\n",
       "    .dataframe tbody tr th:only-of-type {\n",
       "        vertical-align: middle;\n",
       "    }\n",
       "\n",
       "    .dataframe tbody tr th {\n",
       "        vertical-align: top;\n",
       "    }\n",
       "\n",
       "    .dataframe thead th {\n",
       "        text-align: right;\n",
       "    }\n",
       "</style>\n",
       "<table border=\"1\" class=\"dataframe\">\n",
       "  <thead>\n",
       "    <tr style=\"text-align: right;\">\n",
       "      <th></th>\n",
       "      <th>selftext</th>\n",
       "      <th>subreddit</th>\n",
       "      <th>title</th>\n",
       "      <th>created_utc</th>\n",
       "      <th>post_length</th>\n",
       "    </tr>\n",
       "  </thead>\n",
       "  <tbody>\n",
       "    <tr>\n",
       "      <th>0</th>\n",
       "      <td>Need some advice</td>\n",
       "      <td>Asthma</td>\n",
       "      <td>Need People to talk to</td>\n",
       "      <td>1631058620</td>\n",
       "      <td>16</td>\n",
       "    </tr>\n",
       "    <tr>\n",
       "      <th>1</th>\n",
       "      <td>[removed]</td>\n",
       "      <td>Asthma</td>\n",
       "      <td>Switching from Advair to AirDuo</td>\n",
       "      <td>1631055612</td>\n",
       "      <td>9</td>\n",
       "    </tr>\n",
       "    <tr>\n",
       "      <th>2</th>\n",
       "      <td>Finally getting my inhalers tomorrow! But asth...</td>\n",
       "      <td>Asthma</td>\n",
       "      <td>Can an inhaler help a swollen throat?</td>\n",
       "      <td>1631053500</td>\n",
       "      <td>245</td>\n",
       "    </tr>\n",
       "    <tr>\n",
       "      <th>3</th>\n",
       "      <td>Does anyone know where I can buy inhalers onli...</td>\n",
       "      <td>Asthma</td>\n",
       "      <td>Albuterol</td>\n",
       "      <td>1631049537</td>\n",
       "      <td>59</td>\n",
       "    </tr>\n",
       "    <tr>\n",
       "      <th>4</th>\n",
       "      <td>\\n\\nHello,\\n\\nI'm just trying to figure out i...</td>\n",
       "      <td>Asthma</td>\n",
       "      <td>Wildly Different PFT Results?</td>\n",
       "      <td>1631043480</td>\n",
       "      <td>472</td>\n",
       "    </tr>\n",
       "  </tbody>\n",
       "</table>\n",
       "</div>"
      ],
      "text/plain": [
       "                                            selftext subreddit  \\\n",
       "0                                   Need some advice    Asthma   \n",
       "1                                          [removed]    Asthma   \n",
       "2  Finally getting my inhalers tomorrow! But asth...    Asthma   \n",
       "3  Does anyone know where I can buy inhalers onli...    Asthma   \n",
       "4   \\n\\nHello,\\n\\nI'm just trying to figure out i...    Asthma   \n",
       "\n",
       "                                   title  created_utc  post_length  \n",
       "0                 Need People to talk to   1631058620           16  \n",
       "1        Switching from Advair to AirDuo   1631055612            9  \n",
       "2  Can an inhaler help a swollen throat?   1631053500          245  \n",
       "3                              Albuterol   1631049537           59  \n",
       "4          Wildly Different PFT Results?   1631043480          472  "
      ]
     },
     "execution_count": 53,
     "metadata": {},
     "output_type": "execute_result"
    }
   ],
   "source": [
    "# get character length of each subrredit post\n",
    "ast['post_length']= ast['selftext'].apply(len)\n",
    "ast.head()"
   ]
  },
  {
   "cell_type": "code",
   "execution_count": 54,
   "metadata": {},
   "outputs": [
    {
     "data": {
      "text/html": [
       "<div>\n",
       "<style scoped>\n",
       "    .dataframe tbody tr th:only-of-type {\n",
       "        vertical-align: middle;\n",
       "    }\n",
       "\n",
       "    .dataframe tbody tr th {\n",
       "        vertical-align: top;\n",
       "    }\n",
       "\n",
       "    .dataframe thead th {\n",
       "        text-align: right;\n",
       "    }\n",
       "</style>\n",
       "<table border=\"1\" class=\"dataframe\">\n",
       "  <thead>\n",
       "    <tr style=\"text-align: right;\">\n",
       "      <th></th>\n",
       "      <th>selftext</th>\n",
       "      <th>subreddit</th>\n",
       "      <th>title</th>\n",
       "      <th>created_utc</th>\n",
       "      <th>post_length</th>\n",
       "      <th>post_word_count</th>\n",
       "    </tr>\n",
       "  </thead>\n",
       "  <tbody>\n",
       "    <tr>\n",
       "      <th>0</th>\n",
       "      <td>Need some advice</td>\n",
       "      <td>Asthma</td>\n",
       "      <td>Need People to talk to</td>\n",
       "      <td>1631058620</td>\n",
       "      <td>16</td>\n",
       "      <td>3</td>\n",
       "    </tr>\n",
       "    <tr>\n",
       "      <th>1</th>\n",
       "      <td>[removed]</td>\n",
       "      <td>Asthma</td>\n",
       "      <td>Switching from Advair to AirDuo</td>\n",
       "      <td>1631055612</td>\n",
       "      <td>9</td>\n",
       "      <td>1</td>\n",
       "    </tr>\n",
       "    <tr>\n",
       "      <th>2</th>\n",
       "      <td>Finally getting my inhalers tomorrow! But asth...</td>\n",
       "      <td>Asthma</td>\n",
       "      <td>Can an inhaler help a swollen throat?</td>\n",
       "      <td>1631053500</td>\n",
       "      <td>245</td>\n",
       "      <td>43</td>\n",
       "    </tr>\n",
       "    <tr>\n",
       "      <th>3</th>\n",
       "      <td>Does anyone know where I can buy inhalers onli...</td>\n",
       "      <td>Asthma</td>\n",
       "      <td>Albuterol</td>\n",
       "      <td>1631049537</td>\n",
       "      <td>59</td>\n",
       "      <td>11</td>\n",
       "    </tr>\n",
       "    <tr>\n",
       "      <th>4</th>\n",
       "      <td>\\n\\nHello,\\n\\nI'm just trying to figure out i...</td>\n",
       "      <td>Asthma</td>\n",
       "      <td>Wildly Different PFT Results?</td>\n",
       "      <td>1631043480</td>\n",
       "      <td>472</td>\n",
       "      <td>82</td>\n",
       "    </tr>\n",
       "  </tbody>\n",
       "</table>\n",
       "</div>"
      ],
      "text/plain": [
       "                                            selftext subreddit  \\\n",
       "0                                   Need some advice    Asthma   \n",
       "1                                          [removed]    Asthma   \n",
       "2  Finally getting my inhalers tomorrow! But asth...    Asthma   \n",
       "3  Does anyone know where I can buy inhalers onli...    Asthma   \n",
       "4   \\n\\nHello,\\n\\nI'm just trying to figure out i...    Asthma   \n",
       "\n",
       "                                   title  created_utc  post_length  \\\n",
       "0                 Need People to talk to   1631058620           16   \n",
       "1        Switching from Advair to AirDuo   1631055612            9   \n",
       "2  Can an inhaler help a swollen throat?   1631053500          245   \n",
       "3                              Albuterol   1631049537           59   \n",
       "4          Wildly Different PFT Results?   1631043480          472   \n",
       "\n",
       "   post_word_count  \n",
       "0                3  \n",
       "1                1  \n",
       "2               43  \n",
       "3               11  \n",
       "4               82  "
      ]
     },
     "execution_count": 54,
     "metadata": {},
     "output_type": "execute_result"
    }
   ],
   "source": [
    "# get word counts of each subreddit post\n",
    "ast['post_word_count'] = ast['selftext'].apply(lambda x: len(x.split()))\n",
    "ast.head()"
   ]
  },
  {
   "cell_type": "code",
   "execution_count": 55,
   "metadata": {},
   "outputs": [
    {
     "data": {
      "text/html": [
       "<div>\n",
       "<style scoped>\n",
       "    .dataframe tbody tr th:only-of-type {\n",
       "        vertical-align: middle;\n",
       "    }\n",
       "\n",
       "    .dataframe tbody tr th {\n",
       "        vertical-align: top;\n",
       "    }\n",
       "\n",
       "    .dataframe thead th {\n",
       "        text-align: right;\n",
       "    }\n",
       "</style>\n",
       "<table border=\"1\" class=\"dataframe\">\n",
       "  <thead>\n",
       "    <tr style=\"text-align: right;\">\n",
       "      <th></th>\n",
       "      <th>selftext</th>\n",
       "      <th>subreddit</th>\n",
       "      <th>title</th>\n",
       "      <th>created_utc</th>\n",
       "      <th>post_length</th>\n",
       "      <th>post_word_count</th>\n",
       "    </tr>\n",
       "  </thead>\n",
       "  <tbody>\n",
       "    <tr>\n",
       "      <th>0</th>\n",
       "      <td>Newly diagnosed, history of insulin resistance...</td>\n",
       "      <td>diabetes</td>\n",
       "      <td>Trulicity first time</td>\n",
       "      <td>1631063744</td>\n",
       "      <td>501</td>\n",
       "      <td>87</td>\n",
       "    </tr>\n",
       "    <tr>\n",
       "      <th>1</th>\n",
       "      <td>Diagnosed A1c 6.9% Oct 2019\\n\\nLab A1c 5.2% Ju...</td>\n",
       "      <td>diabetes</td>\n",
       "      <td>Endo offered to cert me off as a non-diabetic,...</td>\n",
       "      <td>1631063344</td>\n",
       "      <td>332</td>\n",
       "      <td>64</td>\n",
       "    </tr>\n",
       "    <tr>\n",
       "      <th>2</th>\n",
       "      <td>My pump was shipped last week Thursday from a ...</td>\n",
       "      <td>diabetes</td>\n",
       "      <td>FedEx is literally the worst (my pump was supp...</td>\n",
       "      <td>1631061057</td>\n",
       "      <td>1070</td>\n",
       "      <td>197</td>\n",
       "    </tr>\n",
       "    <tr>\n",
       "      <th>3</th>\n",
       "      <td>So recently I quit my job because it caused me...</td>\n",
       "      <td>diabetes</td>\n",
       "      <td>I hate feeling like a disappointment</td>\n",
       "      <td>1631057349</td>\n",
       "      <td>1268</td>\n",
       "      <td>260</td>\n",
       "    </tr>\n",
       "    <tr>\n",
       "      <th>4</th>\n",
       "      <td>Hi\\n\\nI have prescription for Novolog, dosage ...</td>\n",
       "      <td>diabetes</td>\n",
       "      <td>walgreens refuses to provide me 30 supply of i...</td>\n",
       "      <td>1631055429</td>\n",
       "      <td>313</td>\n",
       "      <td>61</td>\n",
       "    </tr>\n",
       "  </tbody>\n",
       "</table>\n",
       "</div>"
      ],
      "text/plain": [
       "                                            selftext subreddit  \\\n",
       "0  Newly diagnosed, history of insulin resistance...  diabetes   \n",
       "1  Diagnosed A1c 6.9% Oct 2019\\n\\nLab A1c 5.2% Ju...  diabetes   \n",
       "2  My pump was shipped last week Thursday from a ...  diabetes   \n",
       "3  So recently I quit my job because it caused me...  diabetes   \n",
       "4  Hi\\n\\nI have prescription for Novolog, dosage ...  diabetes   \n",
       "\n",
       "                                               title  created_utc  \\\n",
       "0                               Trulicity first time   1631063744   \n",
       "1  Endo offered to cert me off as a non-diabetic,...   1631063344   \n",
       "2  FedEx is literally the worst (my pump was supp...   1631061057   \n",
       "3               I hate feeling like a disappointment   1631057349   \n",
       "4  walgreens refuses to provide me 30 supply of i...   1631055429   \n",
       "\n",
       "   post_length  post_word_count  \n",
       "0          501               87  \n",
       "1          332               64  \n",
       "2         1070              197  \n",
       "3         1268              260  \n",
       "4          313               61  "
      ]
     },
     "execution_count": 55,
     "metadata": {},
     "output_type": "execute_result"
    }
   ],
   "source": [
    "# get word counts of each subreddit post\n",
    "dia['post_word_count'] = dia['selftext'].apply(lambda x: len(x.split()))\n",
    "dia.head()"
   ]
  },
  {
   "cell_type": "code",
   "execution_count": 56,
   "metadata": {},
   "outputs": [
    {
     "data": {
      "text/html": [
       "<div>\n",
       "<style scoped>\n",
       "    .dataframe tbody tr th:only-of-type {\n",
       "        vertical-align: middle;\n",
       "    }\n",
       "\n",
       "    .dataframe tbody tr th {\n",
       "        vertical-align: top;\n",
       "    }\n",
       "\n",
       "    .dataframe thead th {\n",
       "        text-align: right;\n",
       "    }\n",
       "</style>\n",
       "<table border=\"1\" class=\"dataframe\">\n",
       "  <thead>\n",
       "    <tr style=\"text-align: right;\">\n",
       "      <th></th>\n",
       "      <th>created_utc</th>\n",
       "      <th>post_length</th>\n",
       "      <th>post_word_count</th>\n",
       "    </tr>\n",
       "  </thead>\n",
       "  <tbody>\n",
       "    <tr>\n",
       "      <th>count</th>\n",
       "      <td>3.898000e+03</td>\n",
       "      <td>3898.000000</td>\n",
       "      <td>3898.000000</td>\n",
       "    </tr>\n",
       "    <tr>\n",
       "      <th>mean</th>\n",
       "      <td>1.626241e+09</td>\n",
       "      <td>561.893279</td>\n",
       "      <td>104.493330</td>\n",
       "    </tr>\n",
       "    <tr>\n",
       "      <th>std</th>\n",
       "      <td>2.845189e+06</td>\n",
       "      <td>682.593327</td>\n",
       "      <td>125.612268</td>\n",
       "    </tr>\n",
       "    <tr>\n",
       "      <th>min</th>\n",
       "      <td>1.621203e+09</td>\n",
       "      <td>1.000000</td>\n",
       "      <td>1.000000</td>\n",
       "    </tr>\n",
       "    <tr>\n",
       "      <th>25%</th>\n",
       "      <td>1.623777e+09</td>\n",
       "      <td>193.000000</td>\n",
       "      <td>36.000000</td>\n",
       "    </tr>\n",
       "    <tr>\n",
       "      <th>50%</th>\n",
       "      <td>1.626226e+09</td>\n",
       "      <td>402.000000</td>\n",
       "      <td>75.000000</td>\n",
       "    </tr>\n",
       "    <tr>\n",
       "      <th>75%</th>\n",
       "      <td>1.628718e+09</td>\n",
       "      <td>720.000000</td>\n",
       "      <td>136.000000</td>\n",
       "    </tr>\n",
       "    <tr>\n",
       "      <th>max</th>\n",
       "      <td>1.631064e+09</td>\n",
       "      <td>15341.000000</td>\n",
       "      <td>3004.000000</td>\n",
       "    </tr>\n",
       "  </tbody>\n",
       "</table>\n",
       "</div>"
      ],
      "text/plain": [
       "        created_utc   post_length  post_word_count\n",
       "count  3.898000e+03   3898.000000      3898.000000\n",
       "mean   1.626241e+09    561.893279       104.493330\n",
       "std    2.845189e+06    682.593327       125.612268\n",
       "min    1.621203e+09      1.000000         1.000000\n",
       "25%    1.623777e+09    193.000000        36.000000\n",
       "50%    1.626226e+09    402.000000        75.000000\n",
       "75%    1.628718e+09    720.000000       136.000000\n",
       "max    1.631064e+09  15341.000000      3004.000000"
      ]
     },
     "execution_count": 56,
     "metadata": {},
     "output_type": "execute_result"
    }
   ],
   "source": [
    "# check mean word count and character length for subreddit posts\n",
    "dia.describe()"
   ]
  },
  {
   "cell_type": "code",
   "execution_count": 57,
   "metadata": {},
   "outputs": [
    {
     "data": {
      "text/html": [
       "<div>\n",
       "<style scoped>\n",
       "    .dataframe tbody tr th:only-of-type {\n",
       "        vertical-align: middle;\n",
       "    }\n",
       "\n",
       "    .dataframe tbody tr th {\n",
       "        vertical-align: top;\n",
       "    }\n",
       "\n",
       "    .dataframe thead th {\n",
       "        text-align: right;\n",
       "    }\n",
       "</style>\n",
       "<table border=\"1\" class=\"dataframe\">\n",
       "  <thead>\n",
       "    <tr style=\"text-align: right;\">\n",
       "      <th></th>\n",
       "      <th>created_utc</th>\n",
       "      <th>post_length</th>\n",
       "      <th>post_word_count</th>\n",
       "    </tr>\n",
       "  </thead>\n",
       "  <tbody>\n",
       "    <tr>\n",
       "      <th>count</th>\n",
       "      <td>4.414000e+03</td>\n",
       "      <td>4414.000000</td>\n",
       "      <td>4414.000000</td>\n",
       "    </tr>\n",
       "    <tr>\n",
       "      <th>mean</th>\n",
       "      <td>1.610262e+09</td>\n",
       "      <td>651.329860</td>\n",
       "      <td>120.526507</td>\n",
       "    </tr>\n",
       "    <tr>\n",
       "      <th>std</th>\n",
       "      <td>1.203385e+07</td>\n",
       "      <td>640.465418</td>\n",
       "      <td>118.703931</td>\n",
       "    </tr>\n",
       "    <tr>\n",
       "      <th>min</th>\n",
       "      <td>1.589871e+09</td>\n",
       "      <td>1.000000</td>\n",
       "      <td>1.000000</td>\n",
       "    </tr>\n",
       "    <tr>\n",
       "      <th>25%</th>\n",
       "      <td>1.599761e+09</td>\n",
       "      <td>246.000000</td>\n",
       "      <td>46.000000</td>\n",
       "    </tr>\n",
       "    <tr>\n",
       "      <th>50%</th>\n",
       "      <td>1.609342e+09</td>\n",
       "      <td>473.000000</td>\n",
       "      <td>88.000000</td>\n",
       "    </tr>\n",
       "    <tr>\n",
       "      <th>75%</th>\n",
       "      <td>1.621017e+09</td>\n",
       "      <td>842.000000</td>\n",
       "      <td>155.750000</td>\n",
       "    </tr>\n",
       "    <tr>\n",
       "      <th>max</th>\n",
       "      <td>1.631059e+09</td>\n",
       "      <td>10305.000000</td>\n",
       "      <td>1886.000000</td>\n",
       "    </tr>\n",
       "  </tbody>\n",
       "</table>\n",
       "</div>"
      ],
      "text/plain": [
       "        created_utc   post_length  post_word_count\n",
       "count  4.414000e+03   4414.000000      4414.000000\n",
       "mean   1.610262e+09    651.329860       120.526507\n",
       "std    1.203385e+07    640.465418       118.703931\n",
       "min    1.589871e+09      1.000000         1.000000\n",
       "25%    1.599761e+09    246.000000        46.000000\n",
       "50%    1.609342e+09    473.000000        88.000000\n",
       "75%    1.621017e+09    842.000000       155.750000\n",
       "max    1.631059e+09  10305.000000      1886.000000"
      ]
     },
     "execution_count": 57,
     "metadata": {},
     "output_type": "execute_result"
    }
   ],
   "source": [
    "# check mean word count and character length for subreddit posts\n",
    "ast.describe()"
   ]
  },
  {
   "cell_type": "code",
   "execution_count": 58,
   "metadata": {},
   "outputs": [
    {
     "data": {
      "image/png": "[encoded data removed]",
      "text/plain": [
       "<Figure size 1080x720 with 4 Axes>"
      ]
     },
     "metadata": {
      "needs_background": "light"
     },
     "output_type": "display_data"
    }
   ],
   "source": [
    "# Character and word count distribution\n",
    "fig, ax = plt.subplots(2, 2, figsize=(15, 10))\n",
    "sns.histplot(dia['post_length'], ax=ax[0,0], color='green')\n",
    "sns.histplot(ast['post_length'], ax=ax[0,1], color='green')\n",
    "sns.histplot(dia['post_word_count'], ax=ax[1,0], color='orange')\n",
    "sns.histplot(ast['post_word_count'], ax=ax[1,1], color='orange')\n",
    "\n",
    "ax[0,0].set(xlabel='Character length of posts', title='Post Length of Diabetes Subreddit')\n",
    "ax[0,1].set(xlabel='Character length of posts', title='Post Length of Asthma Subreddit')\n",
    "ax[1,0].set(xlabel='Word count of posts', title='Word Count of Diabetes Subreddit Posts')\n",
    "ax[1,1].set(xlabel='Word count of posts', title='Word Count of Asthma Subreddit Posts')\n",
    "\n",
    "fig.suptitle('Character & Word Count Distributions', fontsize=25);\n"
   ]
  },
  {
   "cell_type": "markdown",
   "metadata": {},
   "source": [
    "Posts from both subreddits have character and word count distributions skewed to the right."
   ]
  },
  {
   "cell_type": "markdown",
   "metadata": {},
   "source": [
    "#### Vectorization\n",
    "\n"
   ]
  },
  {
   "cell_type": "code",
   "execution_count": 59,
   "metadata": {},
   "outputs": [],
   "source": [
    "# Instantiate CountVectorizer\n",
    "cv = CountVectorizer(stop_words='english')\n",
    "\n",
    "# vectorize diabetes selftext column\n",
    "dia_vec = cv.fit_transform(dia['selftext'])\n",
    "dia_vec_df = pd.DataFrame(dia_vec.todense(), columns=cv.get_feature_names())\n",
    "\n",
    "# vectorize asthma selftext column\n",
    "ast_vec = cv.fit_transform(ast['selftext'])\n",
    "ast_vec_df = pd.DataFrame(ast_vec.todense(), columns=cv.get_feature_names())"
   ]
  },
  {
   "cell_type": "markdown",
   "metadata": {},
   "source": [
    "#### Most common words\n"
   ]
  },
  {
   "cell_type": "code",
   "execution_count": 60,
   "metadata": {},
   "outputs": [
    {
     "data": {
      "text/plain": [
       "Text(0.5, 0.98, 'Most common words of each subreddit')"
      ]
     },
     "execution_count": 60,
     "metadata": {},
     "output_type": "execute_result"
    },
    {
     "data": {
      "image/png": "[encoded data removed]",
      "text/plain": [
       "<Figure size 1152x432 with 2 Axes>"
      ]
     },
     "metadata": {
      "needs_background": "light"
     },
     "output_type": "display_data"
    }
   ],
   "source": [
    "# a plot showing the top 20 words for each subreddit post\n",
    "fig, ax = plt.subplots(1, 2, figsize=(16,6))\n",
    "dia_vec_df.sum().sort_values(ascending=False).head(20).plot(kind='barh', ax=ax[0], color='olive', fontsize=14)\n",
    "ast_vec_df.sum().sort_values(ascending=False).head(20).plot(kind='barh', ax=ax[1], color='olive', fontsize=14)\n",
    "\n",
    "ax[0].set_title('Diabetes', fontsize=18)\n",
    "ax[1].set_title('Asthma', fontsize=18)\n",
    "ax[0].invert_yaxis()\n",
    "ax[1].invert_yaxis()\n",
    "\n",
    "fig.suptitle('Most common words of each subreddit', fontsize=22)"
   ]
  },
  {
   "cell_type": "markdown",
   "metadata": {},
   "source": [
    "Out of the top 20 common words in each subreddit, the following words are common across both documents.\n",
    "- just, \n",
    "- ve, \n",
    "- like, \n",
    "- don, \n",
    "- know, \n",
    "- time, \n",
    "- got, \n",
    "- day\n",
    "- really\n",
    "- feel\n",
    "- doctor\n",
    "\n",
    "These words are important to both documents and so their predictive power is very low. "
   ]
  },
  {
   "cell_type": "markdown",
   "metadata": {},
   "source": [
    "## Pre-processing"
   ]
  },
  {
   "cell_type": "code",
   "execution_count": 61,
   "metadata": {},
   "outputs": [
    {
     "data": {
      "text/html": [
       "<div>\n",
       "<style scoped>\n",
       "    .dataframe tbody tr th:only-of-type {\n",
       "        vertical-align: middle;\n",
       "    }\n",
       "\n",
       "    .dataframe tbody tr th {\n",
       "        vertical-align: top;\n",
       "    }\n",
       "\n",
       "    .dataframe thead th {\n",
       "        text-align: right;\n",
       "    }\n",
       "</style>\n",
       "<table border=\"1\" class=\"dataframe\">\n",
       "  <thead>\n",
       "    <tr style=\"text-align: right;\">\n",
       "      <th></th>\n",
       "      <th>selftext</th>\n",
       "      <th>subreddit</th>\n",
       "    </tr>\n",
       "  </thead>\n",
       "  <tbody>\n",
       "    <tr>\n",
       "      <th>0</th>\n",
       "      <td>Newly diagnosed, history of insulin resistance...</td>\n",
       "      <td>diabetes</td>\n",
       "    </tr>\n",
       "    <tr>\n",
       "      <th>1</th>\n",
       "      <td>Diagnosed A1c 6.9% Oct 2019\\n\\nLab A1c 5.2% Ju...</td>\n",
       "      <td>diabetes</td>\n",
       "    </tr>\n",
       "    <tr>\n",
       "      <th>2</th>\n",
       "      <td>My pump was shipped last week Thursday from a ...</td>\n",
       "      <td>diabetes</td>\n",
       "    </tr>\n",
       "    <tr>\n",
       "      <th>3</th>\n",
       "      <td>So recently I quit my job because it caused me...</td>\n",
       "      <td>diabetes</td>\n",
       "    </tr>\n",
       "    <tr>\n",
       "      <th>4</th>\n",
       "      <td>Hi\\n\\nI have prescription for Novolog, dosage ...</td>\n",
       "      <td>diabetes</td>\n",
       "    </tr>\n",
       "  </tbody>\n",
       "</table>\n",
       "</div>"
      ],
      "text/plain": [
       "                                            selftext subreddit\n",
       "0  Newly diagnosed, history of insulin resistance...  diabetes\n",
       "1  Diagnosed A1c 6.9% Oct 2019\\n\\nLab A1c 5.2% Ju...  diabetes\n",
       "2  My pump was shipped last week Thursday from a ...  diabetes\n",
       "3  So recently I quit my job because it caused me...  diabetes\n",
       "4  Hi\\n\\nI have prescription for Novolog, dosage ...  diabetes"
      ]
     },
     "execution_count": 61,
     "metadata": {},
     "output_type": "execute_result"
    }
   ],
   "source": [
    "# concatenate asthma and diabetes df\n",
    "df= pd.concat([dia[['selftext', 'subreddit']], ast[['selftext', 'subreddit']]], axis=0, ignore_index=True)\n",
    "df.head()"
   ]
  },
  {
   "cell_type": "code",
   "execution_count": 62,
   "metadata": {},
   "outputs": [
    {
     "data": {
      "text/plain": [
       "(8312, 2)"
      ]
     },
     "execution_count": 62,
     "metadata": {},
     "output_type": "execute_result"
    }
   ],
   "source": [
    "# number of documents in the corpus\n",
    "df.shape"
   ]
  },
  {
   "cell_type": "code",
   "execution_count": 63,
   "metadata": {},
   "outputs": [
    {
     "data": {
      "text/plain": [
       "array(['diabetes', 'Asthma'], dtype=object)"
      ]
     },
     "execution_count": 63,
     "metadata": {},
     "output_type": "execute_result"
    }
   ],
   "source": [
    "# categories in the subreddit column\n",
    "df['subreddit'].unique()"
   ]
  },
  {
   "cell_type": "code",
   "execution_count": 64,
   "metadata": {},
   "outputs": [],
   "source": [
    "# change the labels of categories of subreddit\n",
    "df['subreddit'] = df['subreddit'].map({'diabetes':1, 'Asthma':0})"
   ]
  },
  {
   "cell_type": "code",
   "execution_count": 65,
   "metadata": {},
   "outputs": [
    {
     "data": {
      "text/plain": [
       "selftext     0\n",
       "subreddit    0\n",
       "dtype: int64"
      ]
     },
     "execution_count": 65,
     "metadata": {},
     "output_type": "execute_result"
    }
   ],
   "source": [
    "df.isnull().sum()"
   ]
  },
  {
   "cell_type": "markdown",
   "metadata": {},
   "source": [
    "#### Define X and y"
   ]
  },
  {
   "cell_type": "code",
   "execution_count": 66,
   "metadata": {},
   "outputs": [],
   "source": [
    "# create a data series for X and y\n",
    "X = df['selftext']\n",
    "y = df['subreddit']"
   ]
  },
  {
   "cell_type": "code",
   "execution_count": 67,
   "metadata": {},
   "outputs": [
    {
     "data": {
      "text/plain": [
       "0    0.531039\n",
       "1    0.468961\n",
       "Name: subreddit, dtype: float64"
      ]
     },
     "execution_count": 67,
     "metadata": {},
     "output_type": "execute_result"
    }
   ],
   "source": [
    "# check baseline accuracy\n",
    "y.value_counts(normalize=True)"
   ]
  },
  {
   "cell_type": "markdown",
   "metadata": {},
   "source": [
    "Baseline accuracy is 46.9%. If we were to guess that a post came from Diabetes subreddit, we would be right 46.9% of the time."
   ]
  },
  {
   "cell_type": "code",
   "execution_count": 68,
   "metadata": {},
   "outputs": [],
   "source": [
    "# Split the data into training and testing sets\n",
    "X_train, X_test, y_train, y_test = train_test_split(X, y, test_size=.33, stratify=y, random_state=42)"
   ]
  },
  {
   "cell_type": "markdown",
   "metadata": {},
   "source": [
    "## Modeling"
   ]
  },
  {
   "cell_type": "markdown",
   "metadata": {},
   "source": [
    "### 1. Multinomial NB with CountVectorizer"
   ]
  },
  {
   "cell_type": "markdown",
   "metadata": {},
   "source": [
    "Multinomial Naive Bayes can be used when our variables are positive integers."
   ]
  },
  {
   "cell_type": "code",
   "execution_count": 69,
   "metadata": {},
   "outputs": [],
   "source": [
    "# set a pipeline\n",
    "pipe = Pipeline([\n",
    "    ('cv', CountVectorizer()),\n",
    "    ('nb', MultinomialNB())    \n",
    "])"
   ]
  },
  {
   "cell_type": "code",
   "execution_count": 70,
   "metadata": {},
   "outputs": [],
   "source": [
    "# set hyperparameters\n",
    "pipe_params = {\n",
    "    'cv__max_features': [1000, 2000, 3000, 4000, 5000],\n",
    "    'cv__min_df': [2, 3, 4],\n",
    "    'cv__max_df': [0.92, 0.95],\n",
    "    'cv__ngram_range': [(1,1), (1,2)]\n",
    "}"
   ]
  },
  {
   "cell_type": "code",
   "execution_count": 71,
   "metadata": {},
   "outputs": [],
   "source": [
    "# instantiate GridSearchCV\n",
    "gs = GridSearchCV(\n",
    "    estimator = pipe,\n",
    "    param_grid = pipe_params,\n",
    "    cv = 5,\n",
    "    n_jobs = -1\n",
    ")"
   ]
  },
  {
   "cell_type": "code",
   "execution_count": 72,
   "metadata": {},
   "outputs": [
    {
     "data": {
      "text/plain": [
       "GridSearchCV(cv=5,\n",
       "             estimator=Pipeline(steps=[('cv', CountVectorizer()),\n",
       "                                       ('nb', MultinomialNB())]),\n",
       "             n_jobs=-1,\n",
       "             param_grid={'cv__max_df': [0.92, 0.95],\n",
       "                         'cv__max_features': [1000, 2000, 3000, 4000, 5000],\n",
       "                         'cv__min_df': [2, 3, 4],\n",
       "                         'cv__ngram_range': [(1, 1), (1, 2)]})"
      ]
     },
     "execution_count": 72,
     "metadata": {},
     "output_type": "execute_result"
    }
   ],
   "source": [
    "# fit gridsearch to train data\n",
    "gs.fit(X_train, y_train)"
   ]
  },
  {
   "cell_type": "code",
   "execution_count": 73,
   "metadata": {},
   "outputs": [
    {
     "name": "stdout",
     "output_type": "stream",
     "text": [
      "Best score: 0.956185991892777\n",
      "Best parameters: {'cv__max_df': 0.92, 'cv__max_features': 5000, 'cv__min_df': 4, 'cv__ngram_range': (1, 1)}\n",
      "Accuracy on train data: 0.9640869096785778\n",
      "Accuracy on test data: 0.955523149835946\n"
     ]
    }
   ],
   "source": [
    "# gridsearch optimization\n",
    "print('Best score:', gs.best_score_)\n",
    "print('Best parameters:', gs.best_params_)\n",
    "print('Accuracy on train data:', gs.score(X_train, y_train))\n",
    "print('Accuracy on test data:', gs.score(X_test, y_test))"
   ]
  },
  {
   "cell_type": "markdown",
   "metadata": {},
   "source": [
    "- The best score of the gridsearch from all the different combinations of hyperparameters is an accuracy of 95.6% which is better than the null model with 46.9% accuracy.\n",
    "- The hyperparameters for the best score are where the top 5,000 words from the entire corpus will be saved, a word must occur in at least 4 documents from the corpus and when we ignore words that occur in > 92% of the documents from the corpus.\n",
    "- The accuracy of the estimator is more or less the same on our train and test data. Hence, the model is not overfit."
   ]
  },
  {
   "cell_type": "markdown",
   "metadata": {},
   "source": [
    "#### Metrics: \n",
    "\n",
    "- For the problem we are trying to solve, a prediction that is a false negative will be worse than a false positive.  A patient request diagnosed as asthma and wrongly labeled as a diabetes diagnosis may create an inconvenience for the researchers where they have to review requests diagnosed as asthma which will waste their valuable time.\n",
    "- But what would be worse is a false negative prediction where researchers lose data on diabetes requests that potentially have valuable information for their research and can be costly in terms of the outcome of their research. Therefore, we will be more interested in sensitivity.\n",
    "- Sensitivity measures the number of correct predictions out of all the positive predictions. \n",
    "- I also looked at accuracy , because accuracy shows a general picture of how the models are performing. \n"
   ]
  },
  {
   "cell_type": "code",
   "execution_count": 74,
   "metadata": {},
   "outputs": [],
   "source": [
    "# make predictions \n",
    "y_pred = gs.predict(X_test)\n",
    "\n",
    "# save confusion matrix values\n",
    "tn, fp, fn, tp = confusion_matrix(y_test, y_pred).ravel()"
   ]
  },
  {
   "cell_type": "code",
   "execution_count": 75,
   "metadata": {},
   "outputs": [
    {
     "data": {
      "image/png": "[encoded data removed]",
      "text/plain": [
       "<Figure size 432x288 with 2 Axes>"
      ]
     },
     "metadata": {
      "needs_background": "light"
     },
     "output_type": "display_data"
    }
   ],
   "source": [
    "# plot a confusion matrix\n",
    "plot_confusion_matrix(gs, X_test, y_test, cmap='BuPu', values_format='d');"
   ]
  },
  {
   "cell_type": "code",
   "execution_count": 76,
   "metadata": {},
   "outputs": [
    {
     "name": "stdout",
     "output_type": "stream",
     "text": [
      "Accuracy: 0.955523149835946\n",
      "Sensitivity: 0.9650077760497667\n"
     ]
    }
   ],
   "source": [
    "# sensitivity and accuracy\n",
    "accu = (tp+tn) / (tp+tn+fp+fn)\n",
    "sens = tp/(tp+fn)\n",
    "\n",
    "print('Accuracy:', accu)\n",
    "print('Sensitivity:', sens)"
   ]
  },
  {
   "cell_type": "markdown",
   "metadata": {},
   "source": [
    "This model has an accuracy of 95.6% which is way better than the null model with 46.9% accuracy. "
   ]
  },
  {
   "cell_type": "markdown",
   "metadata": {},
   "source": [
    "### 2. Multinomial NB with TF-IDF Vectorizer"
   ]
  },
  {
   "cell_type": "code",
   "execution_count": 77,
   "metadata": {},
   "outputs": [],
   "source": [
    "# set a pipeline\n",
    "pipe_tv = Pipeline([\n",
    "    ('tv', TfidfVectorizer()),\n",
    "    ('nb', MultinomialNB())\n",
    "])"
   ]
  },
  {
   "cell_type": "code",
   "execution_count": 78,
   "metadata": {},
   "outputs": [],
   "source": [
    "# set hyperparameters\n",
    "pipe_params = {\n",
    "    'tv__max_features': [1000, 2000, 3000, 4000, 5000],\n",
    "    'tv__stop_words': [None, 'english'],\n",
    "    'tv__ngram_range': [(1,1), (1,2), (1,3)]\n",
    "}"
   ]
  },
  {
   "cell_type": "code",
   "execution_count": 79,
   "metadata": {},
   "outputs": [],
   "source": [
    "# instantiate GridSearchCV\n",
    "gs_tv = GridSearchCV(\n",
    "    pipe_tv,\n",
    "    param_grid = pipe_params,\n",
    "    cv = 5,\n",
    "    n_jobs = -1\n",
    ")"
   ]
  },
  {
   "cell_type": "code",
   "execution_count": 80,
   "metadata": {},
   "outputs": [
    {
     "data": {
      "text/plain": [
       "GridSearchCV(cv=5,\n",
       "             estimator=Pipeline(steps=[('tv', TfidfVectorizer()),\n",
       "                                       ('nb', MultinomialNB())]),\n",
       "             n_jobs=-1,\n",
       "             param_grid={'tv__max_features': [1000, 2000, 3000, 4000, 5000],\n",
       "                         'tv__ngram_range': [(1, 1), (1, 2), (1, 3)],\n",
       "                         'tv__stop_words': [None, 'english']})"
      ]
     },
     "execution_count": 80,
     "metadata": {},
     "output_type": "execute_result"
    }
   ],
   "source": [
    "gs_tv.fit(X_train, y_train)"
   ]
  },
  {
   "cell_type": "code",
   "execution_count": 82,
   "metadata": {},
   "outputs": [
    {
     "name": "stdout",
     "output_type": "stream",
     "text": [
      "best score: 0.954209836097306\n",
      "best parameters: {'tv__max_features': 5000, 'tv__ngram_range': (1, 1), 'tv__stop_words': 'english'}\n",
      "accuracy on train data: 0.9646256060333992\n",
      "accuracy on test data: 0.95260663507109\n"
     ]
    }
   ],
   "source": [
    "# gridsearch optimization\n",
    "print('best score:', gs_tv.best_score_)\n",
    "print('best parameters:', gs_tv.best_params_)\n",
    "print('accuracy on train data:', gs_tv.score(X_train, y_train))\n",
    "print('accuracy on test data:', gs_tv.score(X_test, y_test))\n"
   ]
  },
  {
   "cell_type": "code",
   "execution_count": 83,
   "metadata": {},
   "outputs": [],
   "source": [
    "# make predictions\n",
    "pred_tv = gs_tv.predict(X_test)\n",
    "\n",
    "# save confusion matrix values\n",
    "tn, fp, fn, tp = confusion_matrix(y_test, pred_tv).ravel()"
   ]
  },
  {
   "cell_type": "code",
   "execution_count": 84,
   "metadata": {},
   "outputs": [
    {
     "name": "stdout",
     "output_type": "stream",
     "text": [
      "Accuracy: 0.95260663507109\n",
      "Sensitivity: 0.9533437013996889\n"
     ]
    }
   ],
   "source": [
    "# sensitivity and accuracy\n",
    "accu = (tp+tn) / (tp+tn+fp+fn)\n",
    "sens = tp/(tp+fn)\n",
    "\n",
    "print('Accuracy:', accu)\n",
    "print('Sensitivity:', sens)"
   ]
  },
  {
   "cell_type": "code",
   "execution_count": 1069,
   "metadata": {},
   "outputs": [
    {
     "data": {
      "image/png": "[encoded data removed]",
      "text/plain": [
       "<Figure size 432x288 with 2 Axes>"
      ]
     },
     "metadata": {},
     "output_type": "display_data"
    }
   ],
   "source": [
    "# plot confusion matrix\n",
    "plot_confusion_matrix(gs_tv, X_test, y_test, cmap='Greens');"
   ]
  },
  {
   "cell_type": "markdown",
   "metadata": {},
   "source": [
    "- This model performed more or less the same to the first model interms of accuracy and sensitivity. Sensitivity is less by 1% comparing it to the first model.\n",
    "\n",
    "- If both of the outcomes of our target are equally important, this model maybe preferred because it has predicted a balanced number of false negatives and false positives, and has a 95% accuracy on the test data. "
   ]
  },
  {
   "cell_type": "markdown",
   "metadata": {},
   "source": [
    "### 3. Random Forest Classifier with CountVectorizer "
   ]
  },
  {
   "cell_type": "code",
   "execution_count": 85,
   "metadata": {},
   "outputs": [],
   "source": [
    "# split train and test\n",
    "X_train, X_test, y_train, y_test = train_test_split(X, y, test_size=0.33, random_state=42, stratify=y)"
   ]
  },
  {
   "cell_type": "code",
   "execution_count": 86,
   "metadata": {},
   "outputs": [],
   "source": [
    "# Instantiate a CountVectorizer.\n",
    "cvec = CountVectorizer(stop_words='english', min_df=4, max_df=.92, max_features= 4000, ngram_range= (1,2))"
   ]
  },
  {
   "cell_type": "code",
   "execution_count": 87,
   "metadata": {},
   "outputs": [
    {
     "data": {
      "text/plain": [
       "CountVectorizer(max_df=0.92, max_features=4000, min_df=4, ngram_range=(1, 2),\n",
       "                stop_words='english')"
      ]
     },
     "execution_count": 87,
     "metadata": {},
     "output_type": "execute_result"
    }
   ],
   "source": [
    "cvec.fit(X_train)"
   ]
  },
  {
   "cell_type": "code",
   "execution_count": 88,
   "metadata": {},
   "outputs": [],
   "source": [
    "# Transform train\n",
    "X_train = cvec.transform(X_train)"
   ]
  },
  {
   "cell_type": "code",
   "execution_count": 89,
   "metadata": {},
   "outputs": [],
   "source": [
    "# Transform test\n",
    "X_test = cvec.transform(X_test)"
   ]
  },
  {
   "cell_type": "code",
   "execution_count": 90,
   "metadata": {},
   "outputs": [],
   "source": [
    "# Instantiate RandomForestClassifier\n",
    "rf = RandomForestClassifier()"
   ]
  },
  {
   "cell_type": "code",
   "execution_count": 91,
   "metadata": {},
   "outputs": [
    {
     "data": {
      "text/plain": [
       "0.9473851543937245"
      ]
     },
     "execution_count": 91,
     "metadata": {},
     "output_type": "execute_result"
    }
   ],
   "source": [
    "cross_val_score(rf, X_train, y_train, cv=5).mean()"
   ]
  },
  {
   "cell_type": "code",
   "execution_count": 92,
   "metadata": {},
   "outputs": [
    {
     "name": "stdout",
     "output_type": "stream",
     "text": [
      "Fitting 5 folds for each of 36 candidates, totalling 180 fits\n"
     ]
    },
    {
     "data": {
      "text/plain": [
       "GridSearchCV(cv=5, estimator=RandomForestClassifier(), n_jobs=-1,\n",
       "             param_grid={'max_depth': [None, 1, 2, 3, 4, 5],\n",
       "                         'max_features': ['sqrt', 0.5],\n",
       "                         'n_estimators': [100, 150, 200]},\n",
       "             verbose=1)"
      ]
     },
     "execution_count": 92,
     "metadata": {},
     "output_type": "execute_result"
    }
   ],
   "source": [
    "rf_params = {\n",
    "    'n_estimators': [100, 150, 200],\n",
    "    'max_depth': [None, 1, 2, 3, 4, 5],\n",
    "    'max_features': ['sqrt', .5]\n",
    "}\n",
    "\n",
    "gs_rf = GridSearchCV(rf, rf_params, cv=5, n_jobs=-1, verbose=1)\n",
    "gs_rf.fit(X_train, y_train)"
   ]
  },
  {
   "cell_type": "code",
   "execution_count": 93,
   "metadata": {},
   "outputs": [
    {
     "name": "stdout",
     "output_type": "stream",
     "text": [
      "best score: 0.9488212587972082\n",
      "best parameters: {'max_depth': None, 'max_features': 'sqrt', 'n_estimators': 200}\n",
      "accuracy on train data: 0.9856347638714311\n",
      "accuracy on test data: 0.95260663507109\n"
     ]
    }
   ],
   "source": [
    "# gridsearch optimization\n",
    "print('best score:', gs_rf.best_score_)\n",
    "print('best parameters:', gs_rf.best_params_)\n",
    "print('accuracy on train data:', gs_rf.score(X_train, y_train))\n",
    "print('accuracy on test data:', gs_rf.score(X_test, y_test))"
   ]
  },
  {
   "cell_type": "code",
   "execution_count": 94,
   "metadata": {},
   "outputs": [],
   "source": [
    "# make predictions\n",
    "pred_rf = gs_rf.predict(X_test)\n",
    "\n",
    "# save confusion matrix values\n",
    "tn, fp, fn, tp = confusion_matrix(y_test, pred_rf).ravel()"
   ]
  },
  {
   "cell_type": "code",
   "execution_count": 95,
   "metadata": {},
   "outputs": [
    {
     "name": "stdout",
     "output_type": "stream",
     "text": [
      "Accuracy: 0.95260663507109\n",
      "Sensitivity: 0.9751166407465007\n"
     ]
    }
   ],
   "source": [
    "# sensitivity and accuracy\n",
    "accu = (tp+tn) / (tp+tn+fp+fn)\n",
    "sens = tp/(tp+fn)\n",
    "\n",
    "print('Accuracy:', accu)\n",
    "print('Sensitivity:', sens)"
   ]
  },
  {
   "cell_type": "code",
   "execution_count": 96,
   "metadata": {},
   "outputs": [
    {
     "data": {
      "image/png": "[encoded data removed]",
      "text/plain": [
       "<Figure size 432x288 with 2 Axes>"
      ]
     },
     "metadata": {
      "needs_background": "light"
     },
     "output_type": "display_data"
    }
   ],
   "source": [
    "plot_confusion_matrix(gs_rf, X_test, y_test, cmap='Greens');"
   ]
  },
  {
   "cell_type": "code",
   "execution_count": 1142,
   "metadata": {},
   "outputs": [],
   "source": [
    "# get feature importances\n",
    "importances= gs_rf.best_estimator_.feature_importances_"
   ]
  },
  {
   "cell_type": "code",
   "execution_count": 1143,
   "metadata": {},
   "outputs": [],
   "source": [
    "# get feature names\n",
    "names=cvec.get_feature_names()"
   ]
  },
  {
   "cell_type": "code",
   "execution_count": 1144,
   "metadata": {},
   "outputs": [
    {
     "data": {
      "text/html": [
       "<div>\n",
       "<style scoped>\n",
       "    .dataframe tbody tr th:only-of-type {\n",
       "        vertical-align: middle;\n",
       "    }\n",
       "\n",
       "    .dataframe tbody tr th {\n",
       "        vertical-align: top;\n",
       "    }\n",
       "\n",
       "    .dataframe thead th {\n",
       "        text-align: right;\n",
       "    }\n",
       "</style>\n",
       "<table border=\"1\" class=\"dataframe\">\n",
       "  <thead>\n",
       "    <tr style=\"text-align: right;\">\n",
       "      <th></th>\n",
       "      <th>feature_importance</th>\n",
       "      <th>features</th>\n",
       "    </tr>\n",
       "  </thead>\n",
       "  <tbody>\n",
       "    <tr>\n",
       "      <th>345</th>\n",
       "      <td>0.116981</td>\n",
       "      <td>asthma</td>\n",
       "    </tr>\n",
       "    <tr>\n",
       "      <th>1862</th>\n",
       "      <td>0.042034</td>\n",
       "      <td>inhaler</td>\n",
       "    </tr>\n",
       "    <tr>\n",
       "      <th>994</th>\n",
       "      <td>0.041308</td>\n",
       "      <td>diabetes</td>\n",
       "    </tr>\n",
       "    <tr>\n",
       "      <th>1897</th>\n",
       "      <td>0.028943</td>\n",
       "      <td>insulin</td>\n",
       "    </tr>\n",
       "    <tr>\n",
       "      <th>3343</th>\n",
       "      <td>0.021768</td>\n",
       "      <td>sugar</td>\n",
       "    </tr>\n",
       "    <tr>\n",
       "      <th>556</th>\n",
       "      <td>0.020404</td>\n",
       "      <td>breathing</td>\n",
       "    </tr>\n",
       "    <tr>\n",
       "      <th>1001</th>\n",
       "      <td>0.018593</td>\n",
       "      <td>diabetic</td>\n",
       "    </tr>\n",
       "    <tr>\n",
       "      <th>494</th>\n",
       "      <td>0.017025</td>\n",
       "      <td>blood</td>\n",
       "    </tr>\n",
       "    <tr>\n",
       "      <th>544</th>\n",
       "      <td>0.015591</td>\n",
       "      <td>breath</td>\n",
       "    </tr>\n",
       "    <tr>\n",
       "      <th>682</th>\n",
       "      <td>0.014694</td>\n",
       "      <td>chest</td>\n",
       "    </tr>\n",
       "  </tbody>\n",
       "</table>\n",
       "</div>"
      ],
      "text/plain": [
       "      feature_importance   features\n",
       "345             0.116981     asthma\n",
       "1862            0.042034    inhaler\n",
       "994             0.041308   diabetes\n",
       "1897            0.028943    insulin\n",
       "3343            0.021768      sugar\n",
       "556             0.020404  breathing\n",
       "1001            0.018593   diabetic\n",
       "494             0.017025      blood\n",
       "544             0.015591     breath\n",
       "682             0.014694      chest"
      ]
     },
     "execution_count": 1144,
     "metadata": {},
     "output_type": "execute_result"
    }
   ],
   "source": [
    "# creates the feature importance dataframe\n",
    "importance_dict = pd.DataFrame({'feature_importance': importances,\n",
    "                                'features': names})\n",
    "top10 = importance_dict.nlargest(10, columns=['feature_importance'])\n",
    "top10"
   ]
  },
  {
   "cell_type": "markdown",
   "metadata": {},
   "source": [
    "Random forest classifier performed better comparing it to the previous two models interms of sensitivity. "
   ]
  },
  {
   "cell_type": "markdown",
   "metadata": {},
   "source": [
    "## 4. Knn classifier with Tf-IDF Vectorizer"
   ]
  },
  {
   "cell_type": "code",
   "execution_count": 98,
   "metadata": {},
   "outputs": [],
   "source": [
    "# create a data series for x and y\n",
    "X = df['selftext']\n",
    "y = df['subreddit']"
   ]
  },
  {
   "cell_type": "code",
   "execution_count": 99,
   "metadata": {},
   "outputs": [],
   "source": [
    "X_train, X_test, y_train, y_test = train_test_split(X, y, random_state=42, stratify=y)"
   ]
  },
  {
   "cell_type": "code",
   "execution_count": 100,
   "metadata": {},
   "outputs": [],
   "source": [
    "# Instantiate pipeline object.\n",
    "pipe_knn = Pipeline([\n",
    "    ('tfv', TfidfVectorizer()),\n",
    "    ('sc', StandardScaler()),\n",
    "    ('knn', KNeighborsClassifier())\n",
    "])\n"
   ]
  },
  {
   "cell_type": "code",
   "execution_count": 101,
   "metadata": {},
   "outputs": [],
   "source": [
    "# Define dictionary of hyperparameters.\n",
    "pipe_knn_params = {\n",
    "    'tfv__stop_words': [None, 'english'],\n",
    "    'tfv__ngram_range': [(1,1), (1,2)],\n",
    "    'sc__with_mean': [False],\n",
    "    'knn__p': [1,2],\n",
    "    'knn__weights': ['uniform', 'distance'],\n",
    "    'knn__n_neighbors': [3, 5, 10]\n",
    "}"
   ]
  },
  {
   "cell_type": "code",
   "execution_count": 102,
   "metadata": {},
   "outputs": [],
   "source": [
    "# Instantiate our GridSearchCV object.\n",
    "gs_knn = GridSearchCV(pipe_knn,\n",
    "                                 pipe_knn_params,\n",
    "                                 n_jobs=-1,\n",
    "                                 verbose=1)"
   ]
  },
  {
   "cell_type": "code",
   "execution_count": 103,
   "metadata": {},
   "outputs": [
    {
     "name": "stdout",
     "output_type": "stream",
     "text": [
      "Fitting 5 folds for each of 48 candidates, totalling 240 fits\n"
     ]
    },
    {
     "data": {
      "text/plain": [
       "GridSearchCV(estimator=Pipeline(steps=[('tfv', TfidfVectorizer()),\n",
       "                                       ('sc', StandardScaler()),\n",
       "                                       ('knn', KNeighborsClassifier())]),\n",
       "             n_jobs=-1,\n",
       "             param_grid={'knn__n_neighbors': [3, 5, 10], 'knn__p': [1, 2],\n",
       "                         'knn__weights': ['uniform', 'distance'],\n",
       "                         'sc__with_mean': [False],\n",
       "                         'tfv__ngram_range': [(1, 1), (1, 2)],\n",
       "                         'tfv__stop_words': [None, 'english']},\n",
       "             verbose=1)"
      ]
     },
     "execution_count": 103,
     "metadata": {},
     "output_type": "execute_result"
    }
   ],
   "source": [
    "# Fit the GridSearchCV object to the data.\n",
    "gs_knn.fit(X_train, y_train)"
   ]
  },
  {
   "cell_type": "code",
   "execution_count": 104,
   "metadata": {},
   "outputs": [
    {
     "name": "stdout",
     "output_type": "stream",
     "text": [
      "best score: 0.5566283639321853\n",
      "best parameters: {'knn__n_neighbors': 3, 'knn__p': 2, 'knn__weights': 'distance', 'sc__with_mean': False, 'tfv__ngram_range': (1, 1), 'tfv__stop_words': None}\n",
      "accuracy on train data: 0.9858838626884825\n",
      "accuracy on test data: 0.5726660250240616\n"
     ]
    }
   ],
   "source": [
    "# gridsearch optimization\n",
    "print('best score:', gs_knn.best_score_)\n",
    "print('best parameters:', gs_knn.best_params_)\n",
    "print('accuracy on train data:', gs_knn.score(X_train, y_train))\n",
    "print('accuracy on test data:', gs_knn.score(X_test, y_test))"
   ]
  },
  {
   "cell_type": "code",
   "execution_count": 105,
   "metadata": {},
   "outputs": [],
   "source": [
    "# make predictions\n",
    "pred_knn = gs_knn.predict(X_test)\n",
    "\n",
    "# save confusion matrix values\n",
    "tn, fp, fn, tp = confusion_matrix(y_test, pred_knn).ravel()"
   ]
  },
  {
   "cell_type": "code",
   "execution_count": 106,
   "metadata": {},
   "outputs": [
    {
     "data": {
      "image/png": "[encoded data removed]",
      "text/plain": [
       "<Figure size 432x288 with 2 Axes>"
      ]
     },
     "metadata": {
      "needs_background": "light"
     },
     "output_type": "display_data"
    }
   ],
   "source": [
    "plot_confusion_matrix(gs_knn, X_test, y_test, cmap='Greens');"
   ]
  },
  {
   "cell_type": "code",
   "execution_count": 107,
   "metadata": {},
   "outputs": [
    {
     "name": "stdout",
     "output_type": "stream",
     "text": [
      "Accuracy: 0.5726660250240616\n",
      "Sensitivity: 0.15503080082135523\n"
     ]
    }
   ],
   "source": [
    "# sensitivity and accuracy\n",
    "accu = (tp+tn) / (tp+tn+fp+fn)\n",
    "sens = tp/(tp+fn)\n",
    "\n",
    "print('Accuracy:', accu)\n",
    "print('Sensitivity:', sens)"
   ]
  },
  {
   "cell_type": "markdown",
   "metadata": {},
   "source": [
    "Knn classifier performed the worst comparing it to the above models with a sensitivity of 15.5% and 57.3%"
   ]
  },
  {
   "cell_type": "markdown",
   "metadata": {},
   "source": [
    "## Conclusions"
   ]
  },
  {
   "cell_type": "markdown",
   "metadata": {},
   "source": [
    "- The best classifier is found to be the multinomial Naive Bayes (with countvectorizer) with an accuracy of 95.6% and sensitivity of 97.2%. \n",
    "- This model is performing very well, but it would be a good idea to make sure that we are not training the estimator obvious words such as asthma and diabetes which are in the top common words. \n",
    "- Also, including more stop words into the English stop words that are common across each subreddit such as 'doctor', 'like', and 'just', might help to increase the performance of the classfier. \n",
    "- Knn classifer has a sensitivty of 15.5%. This is very low comparing it with how the other models performed. Analyzing why there are many false positive predictions with the knn classifier will help to identify trends in the data. "
   ]
  }
 ],
 "metadata": {
  "kernelspec": {
   "display_name": "Python 3",
   "language": "python",
   "name": "python3"
  },
  "language_info": {
   "codemirror_mode": {
    "name": "ipython",
    "version": 3
   },
   "file_extension": ".py",
   "mimetype": "text/x-python",
   "name": "python",
   "nbconvert_exporter": "python",
   "pygments_lexer": "ipython3",
   "version": "3.8.8"
  }
 },
 "nbformat": 4,
 "nbformat_minor": 4
}
